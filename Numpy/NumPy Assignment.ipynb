{
 "cells": [
  {
   "cell_type": "markdown",
   "metadata": {},
   "source": [
    "Ans 1. -------------Generating a Vandermonde matrix------------------"
   ]
  },
  {
   "cell_type": "code",
   "execution_count": 16,
   "metadata": {},
   "outputs": [],
   "source": [
    "import numpy as np"
   ]
  },
  {
   "cell_type": "code",
   "execution_count": 17,
   "metadata": {},
   "outputs": [],
   "source": [
    "def matrix(vec, N):\n",
    "    vec1 = np.array(vec, copy = True, ndmin = 2, dtype = int).T\n",
    "    temp = np.zeros((len(vec1), N), dtype = int)+vec1\n",
    "    for i in range(len(vec1)):\n",
    "        for j in range(N):\n",
    "            temp[i][j]=temp[i][j]**(N-j-1)\n",
    "    return temp"
   ]
  },
  {
   "cell_type": "code",
   "execution_count": 18,
   "metadata": {},
   "outputs": [
    {
     "data": {
      "text/plain": [
       "array([1, 2, 3, 4, 5])"
      ]
     },
     "execution_count": 18,
     "metadata": {},
     "output_type": "execute_result"
    }
   ],
   "source": [
    "vec = np.array([1,2,3,4,5])\n",
    "vec"
   ]
  },
  {
   "cell_type": "code",
   "execution_count": 19,
   "metadata": {},
   "outputs": [],
   "source": [
    "N = 3"
   ]
  },
  {
   "cell_type": "code",
   "execution_count": 20,
   "metadata": {},
   "outputs": [],
   "source": [
    "output_matrix = matrix(vec, N)"
   ]
  },
  {
   "cell_type": "code",
   "execution_count": 21,
   "metadata": {},
   "outputs": [
    {
     "data": {
      "text/plain": [
       "array([[ 1,  1,  1],\n",
       "       [ 4,  2,  1],\n",
       "       [ 9,  3,  1],\n",
       "       [16,  4,  1],\n",
       "       [25,  5,  1]])"
      ]
     },
     "execution_count": 21,
     "metadata": {},
     "output_type": "execute_result"
    }
   ],
   "source": [
    "output_matrix"
   ]
  },
  {
   "cell_type": "markdown",
   "metadata": {},
   "source": [
    "Ans 2 -----------Moving Average Sequence--------------"
   ]
  },
  {
   "cell_type": "code",
   "execution_count": 37,
   "metadata": {},
   "outputs": [
    {
     "data": {
      "text/plain": [
       "tuple"
      ]
     },
     "execution_count": 37,
     "metadata": {},
     "output_type": "execute_result"
    }
   ],
   "source": [
    "inp = np.array([3,5,7,2,8,10,11,65,72,81,99,100,150])"
   ]
  },
  {
   "cell_type": "code",
   "execution_count": 52,
   "metadata": {},
   "outputs": [],
   "source": [
    "def moving_average(arr, k):\n",
    "    values = len(arr)-k+1\n",
    "    for i in range(values):\n",
    "        lst = []\n",
    "        summ = 0\n",
    "        for j in range(k):\n",
    "            summ = summ+arr[i+j]\n",
    "            lst.append(arr[i+j])\n",
    "        print('y{}\\t={}   ----->  {}/{}'.format(i+1, '%.2f'%(summ/k), tuple(lst), k))\n",
    "    return values\n",
    "   "
   ]
  },
  {
   "cell_type": "code",
   "execution_count": 53,
   "metadata": {},
   "outputs": [
    {
     "name": "stdout",
     "output_type": "stream",
     "text": [
      "y1\t=5.00   ----->  (3, 5, 7)/3\n",
      "y2\t=4.67   ----->  (5, 7, 2)/3\n",
      "y3\t=5.67   ----->  (7, 2, 8)/3\n",
      "y4\t=6.67   ----->  (2, 8, 10)/3\n",
      "y5\t=9.67   ----->  (8, 10, 11)/3\n",
      "y6\t=28.67   ----->  (10, 11, 65)/3\n",
      "y7\t=49.33   ----->  (11, 65, 72)/3\n",
      "y8\t=72.67   ----->  (65, 72, 81)/3\n",
      "y9\t=84.00   ----->  (72, 81, 99)/3\n",
      "y10\t=93.33   ----->  (81, 99, 100)/3\n",
      "y11\t=116.33   ----->  (99, 100, 150)/3\n",
      "\n",
      "\n",
      "The Moving Average sequence has 11 values\n"
     ]
    }
   ],
   "source": [
    "result = moving_average(inp, 3)\n",
    "print(\"\\n\\nThe Moving Average sequence has {} values\".format(result))"
   ]
  },
  {
   "cell_type": "code",
   "execution_count": null,
   "metadata": {},
   "outputs": [],
   "source": []
  }
 ],
 "metadata": {
  "kernelspec": {
   "display_name": "Python 3",
   "language": "python",
   "name": "python3"
  },
  "language_info": {
   "codemirror_mode": {
    "name": "ipython",
    "version": 3
   },
   "file_extension": ".py",
   "mimetype": "text/x-python",
   "name": "python",
   "nbconvert_exporter": "python",
   "pygments_lexer": "ipython3",
   "version": "3.7.4"
  }
 },
 "nbformat": 4,
 "nbformat_minor": 2
}
